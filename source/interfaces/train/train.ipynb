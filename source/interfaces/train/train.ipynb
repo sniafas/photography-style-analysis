{
 "cells": [
  {
   "cell_type": "code",
   "execution_count": 1,
   "metadata": {},
   "outputs": [],
   "source": [
    "# System libraries\n",
    "import os\n",
    "import sys\n",
    "import importlib\n",
    "import datetime\n",
    "sys.path.insert(0, os.path.abspath('../../'))"
   ]
  },
  {
   "cell_type": "code",
   "execution_count": 2,
   "metadata": {},
   "outputs": [],
   "source": [
    "# Custom libraries\n",
    "from configuration.config import Configuration\n",
    "import preprocess.tf_records as tfr\n",
    "from utils.gpu_util import set_gpu\n",
    "from utils.train_utils import load_dataset, get_optimizer, get_true_labels, losses_and_metrics, train_ckpt_manager, model_initialise\n",
    "from utils.training_callbacks import early_stopping, model_chpnt\n",
    "\n",
    "# Helper libraries\n",
    "import tensorflow as tf\n",
    "from tensorflow.compat.v1 import logging\n",
    "import numpy as np\n",
    "\n",
    "from tensorflow.keras.models import load_model\n",
    "from collections import defaultdict"
   ]
  },
  {
   "cell_type": "code",
   "execution_count": 3,
   "metadata": {},
   "outputs": [],
   "source": [
    "import matplotlib.pyplot as plt\n",
    "\n",
    "import matplotlib as mpl\n",
    "from matplotlib import rc\n",
    "\n",
    "%matplotlib inline\n",
    "\n",
    "# Set plot style\n",
    "get_ipython().run_line_magic('matplotlib', 'inline')\n",
    "plt.style.use(['dark_background', 'bmh'])\n",
    "rc('figure', figsize=(8, 8), max_open_warning=False)\n",
    "rc('axes', facecolor='none')"
   ]
  },
  {
   "cell_type": "code",
   "execution_count": 4,
   "metadata": {},
   "outputs": [],
   "source": [
    "set_gpu('gpu')\n",
    "\n",
    "config = Configuration().get_configuration()\n",
    "\n",
    "epochs = config['training']['epochs']\n",
    "lr = config['training']['lr']\n",
    "optimizer = get_optimizer(lr, config['training']['optimizer'])\n",
    "\n",
    "img_size = [config['training']['img_size_x'],\n",
    "            config['training']['img_size_y']]\n",
    "batch_size = config['training']['batch_size']\n",
    "model_save = config['training']['model_save']\n",
    "restore_model = config['training']['restore_model']\n",
    "augment = config['training']['augment']\n",
    "# Dynamically import module.\n",
    "#tfrecords_module = importlib.import_module('preprocess.tf_records')\n",
    "\n",
    "# Get name of class.\n",
    "#tfrec_class = getattr(tfrecords_module, 'TFRecordIO')\n",
    "\n",
    "# Create a new instance of this class.\n",
    "#tfrio = tfrec_class()\n",
    "\n",
    "loss_fn, train_loss, train_accuracy, valid_loss, valid_accuracy = losses_and_metrics()"
   ]
  },
  {
   "cell_type": "code",
   "execution_count": 5,
   "metadata": {},
   "outputs": [
    {
     "name": "stdout",
     "output_type": "stream",
     "text": [
      "Model architecture created\n"
     ]
    }
   ],
   "source": [
    "model = model_initialise()"
   ]
  },
  {
   "cell_type": "code",
   "execution_count": 6,
   "metadata": {},
   "outputs": [],
   "source": [
    "# Train init\n",
    "ckpt = tf.train.Checkpoint(step=tf.Variable(1), optimizer=optimizer, net=model)\n",
    "manager = tf.train.CheckpointManager(ckpt, '../../logs/tf_ckpts', max_to_keep=3)"
   ]
  },
  {
   "cell_type": "code",
   "execution_count": 48,
   "metadata": {},
   "outputs": [
    {
     "name": "stdout",
     "output_type": "stream",
     "text": [
      "Restored from ../../logs/tf_ckpts/ckpt-10\n"
     ]
    }
   ],
   "source": [
    "if model_restore:\n",
    "    ckpt.restore(manager.latest_checkpoint)\n",
    "    print(\"Restored from {}\".format(manager.latest_checkpoint))"
   ]
  },
  {
   "cell_type": "markdown",
   "metadata": {},
   "source": [
    "### Train Fit"
   ]
  },
  {
   "cell_type": "code",
   "execution_count": 6,
   "metadata": {},
   "outputs": [],
   "source": [
    "model.compile(optimizer=optimizer, loss='categorical_crossentropy',\n",
    "              metrics=['accuracy'])"
   ]
  },
  {
   "cell_type": "code",
   "execution_count": 7,
   "metadata": {},
   "outputs": [
    {
     "name": "stdout",
     "output_type": "stream",
     "text": [
      "Model: \"sequential\"\n",
      "_________________________________________________________________\n",
      "Layer (type)                 Output Shape              Param #   \n",
      "=================================================================\n",
      "batch_normalization (BatchNo (None, 200, 300, 3)       12        \n",
      "_________________________________________________________________\n",
      "conv2d (Conv2D)              (None, 198, 298, 8)       224       \n",
      "_________________________________________________________________\n",
      "max_pooling2d (MaxPooling2D) (None, 99, 149, 8)        0         \n",
      "_________________________________________________________________\n",
      "batch_normalization_1 (Batch (None, 99, 149, 8)        32        \n",
      "_________________________________________________________________\n",
      "conv2d_1 (Conv2D)            (None, 97, 147, 10)       730       \n",
      "_________________________________________________________________\n",
      "max_pooling2d_1 (MaxPooling2 (None, 48, 73, 10)        0         \n",
      "_________________________________________________________________\n",
      "conv2d_2 (Conv2D)            (None, 46, 71, 10)        910       \n",
      "_________________________________________________________________\n",
      "max_pooling2d_2 (MaxPooling2 (None, 23, 35, 10)        0         \n",
      "_________________________________________________________________\n",
      "flatten (Flatten)            (None, 8050)              0         \n",
      "_________________________________________________________________\n",
      "dense (Dense)                (None, 30)                241530    \n",
      "_________________________________________________________________\n",
      "dropout (Dropout)            (None, 30)                0         \n",
      "_________________________________________________________________\n",
      "dense_1 (Dense)              (None, 2)                 62        \n",
      "=================================================================\n",
      "Total params: 243,500\n",
      "Trainable params: 243,478\n",
      "Non-trainable params: 22\n",
      "_________________________________________________________________\n"
     ]
    }
   ],
   "source": [
    "model.summary()"
   ]
  },
  {
   "cell_type": "code",
   "execution_count": 7,
   "metadata": {},
   "outputs": [
    {
     "name": "stdout",
     "output_type": "stream",
     "text": [
      "Normalization...\n",
      "WARNING:tensorflow:From /home/steve/.virtualenvs/tf2_dev/lib/python3.6/site-packages/tensorflow_core/python/ops/image_ops_impl.py:1518: div (from tensorflow.python.ops.math_ops) is deprecated and will be removed in a future version.\n",
      "Instructions for updating:\n",
      "Deprecated in favor of operator or tf.math.divide.\n",
      "Normalization...\n",
      "Normalization...\n"
     ]
    }
   ],
   "source": [
    "train, train_len = load_dataset('train', batch_size, 1000, augmentation=augment, method='fit')\n",
    "valid, valid_len = load_dataset('valid', batch_size, 3000, augmentation=augment, method='fit')\n",
    "test, test_len = load_dataset('test', batch_size, 3000, augmentation=augment, method='fit')"
   ]
  },
  {
   "cell_type": "code",
   "execution_count": 8,
   "metadata": {},
   "outputs": [
    {
     "name": "stdout",
     "output_type": "stream",
     "text": [
      "Train for 321 steps, validate for 17 steps\n",
      "Epoch 1/10\n",
      "320/321 [============================>.] - ETA: 0s - loss: 0.7217 - accuracy: 0.5259\n",
      "Epoch 00001: val_loss improved from inf to 0.69694, saving model to source/logs/tf_ckpts/cp-0001.ckpt\n",
      "WARNING:tensorflow:From /home/steve/.virtualenvs/tf2_dev/lib/python3.6/site-packages/tensorflow_core/python/ops/resource_variable_ops.py:1781: calling BaseResourceVariable.__init__ (from tensorflow.python.ops.resource_variable_ops) with constraint is deprecated and will be removed in a future version.\n",
      "Instructions for updating:\n",
      "If using Keras pass *_constraint arguments to layers.\n",
      "INFO:tensorflow:Assets written to: source/logs/tf_ckpts/cp-0001.ckpt/assets\n",
      "321/321 [==============================] - 81s 254ms/step - loss: 0.7216 - accuracy: 0.5259 - val_loss: 0.6969 - val_accuracy: 0.5451\n",
      "Epoch 2/10\n",
      "320/321 [============================>.] - ETA: 0s - loss: 0.6923 - accuracy: 0.5443\n",
      "Epoch 00002: val_loss improved from 0.69694 to 0.68934, saving model to source/logs/tf_ckpts/cp-0002.ckpt\n",
      "INFO:tensorflow:Assets written to: source/logs/tf_ckpts/cp-0002.ckpt/assets\n",
      "321/321 [==============================] - 77s 240ms/step - loss: 0.6924 - accuracy: 0.5443 - val_loss: 0.6893 - val_accuracy: 0.5588\n",
      "Epoch 3/10\n",
      "320/321 [============================>.] - ETA: 0s - loss: 0.6864 - accuracy: 0.5557\n",
      "Epoch 00003: val_loss improved from 0.68934 to 0.68910, saving model to source/logs/tf_ckpts/cp-0003.ckpt\n",
      "INFO:tensorflow:Assets written to: source/logs/tf_ckpts/cp-0003.ckpt/assets\n",
      "321/321 [==============================] - 77s 239ms/step - loss: 0.6863 - accuracy: 0.5556 - val_loss: 0.6891 - val_accuracy: 0.5520\n",
      "Epoch 4/10\n",
      "320/321 [============================>.] - ETA: 0s - loss: 0.6826 - accuracy: 0.5679\n",
      "Epoch 00004: val_loss improved from 0.68910 to 0.68523, saving model to source/logs/tf_ckpts/cp-0004.ckpt\n",
      "INFO:tensorflow:Assets written to: source/logs/tf_ckpts/cp-0004.ckpt/assets\n",
      "321/321 [==============================] - 77s 241ms/step - loss: 0.6827 - accuracy: 0.5676 - val_loss: 0.6852 - val_accuracy: 0.5608\n",
      "Epoch 5/10\n",
      "320/321 [============================>.] - ETA: 0s - loss: 0.6807 - accuracy: 0.5696\n",
      "Epoch 00005: val_loss did not improve from 0.68523\n",
      "321/321 [==============================] - 76s 237ms/step - loss: 0.6806 - accuracy: 0.5699 - val_loss: 0.6864 - val_accuracy: 0.5569\n",
      "Epoch 6/10\n",
      "320/321 [============================>.] - ETA: 0s - loss: 0.6787 - accuracy: 0.5739\n",
      "Epoch 00006: val_loss improved from 0.68523 to 0.68054, saving model to source/logs/tf_ckpts/cp-0006.ckpt\n",
      "INFO:tensorflow:Assets written to: source/logs/tf_ckpts/cp-0006.ckpt/assets\n",
      "321/321 [==============================] - 78s 244ms/step - loss: 0.6788 - accuracy: 0.5738 - val_loss: 0.6805 - val_accuracy: 0.5608\n",
      "Epoch 7/10\n",
      "320/321 [============================>.] - ETA: 0s - loss: 0.6770 - accuracy: 0.5738\n",
      "Epoch 00007: val_loss did not improve from 0.68054\n",
      "321/321 [==============================] - 76s 237ms/step - loss: 0.6769 - accuracy: 0.5739 - val_loss: 0.6817 - val_accuracy: 0.5549\n",
      "Epoch 8/10\n",
      "320/321 [============================>.] - ETA: 0s - loss: 0.6766 - accuracy: 0.5768\n",
      "Epoch 00008: val_loss did not improve from 0.68054\n",
      "321/321 [==============================] - 76s 237ms/step - loss: 0.6766 - accuracy: 0.5769 - val_loss: 0.6809 - val_accuracy: 0.5598\n",
      "Epoch 9/10\n",
      "320/321 [============================>.] - ETA: 0s - loss: 0.6750 - accuracy: 0.5795\n",
      "Epoch 00009: val_loss did not improve from 0.68054\n",
      "321/321 [==============================] - 76s 237ms/step - loss: 0.6750 - accuracy: 0.5793 - val_loss: 0.6810 - val_accuracy: 0.5529\n",
      "Epoch 10/10\n",
      "320/321 [============================>.] - ETA: 0s - loss: 0.6735 - accuracy: 0.5834\n",
      "Epoch 00010: val_loss improved from 0.68054 to 0.67884, saving model to source/logs/tf_ckpts/cp-0010.ckpt\n",
      "INFO:tensorflow:Assets written to: source/logs/tf_ckpts/cp-0010.ckpt/assets\n",
      "321/321 [==============================] - 78s 244ms/step - loss: 0.6736 - accuracy: 0.5832 - val_loss: 0.6788 - val_accuracy: 0.5569\n"
     ]
    }
   ],
   "source": [
    "results = model.fit(train, validation_data=valid, epochs=10,\n",
    "                        steps_per_epoch=train_len // batch_size,\n",
    "                        validation_steps=valid_len // batch_size,\n",
    "                        callbacks=[early_stopping(),model_chpnt()])"
   ]
  },
  {
   "cell_type": "code",
   "execution_count": 22,
   "metadata": {},
   "outputs": [
    {
     "name": "stdout",
     "output_type": "stream",
     "text": [
      "Evaluating on test set...\n",
      "loss=0.6915, accuracy: 56.08%\n"
     ]
    }
   ],
   "source": [
    "print(\"Evaluating on test set...\")\n",
    "(test_loss, test_accuracy) = model.evaluate(test, verbose=0, steps=valid_len // batch_size)\n",
    "print(\"loss={:.4f}, accuracy: {:.2f}%\".format(test_loss,test_accuracy * 100))\n"
   ]
  },
  {
   "cell_type": "code",
   "execution_count": 43,
   "metadata": {},
   "outputs": [
    {
     "data": {
      "image/png": "[encoded data removed]",
      "text/plain": [
       "<Figure size 720x576 with 2 Axes>"
      ]
     },
     "metadata": {},
     "output_type": "display_data"
    }
   ],
   "source": [
    "plot_training(results.history)"
   ]
  },
  {
   "cell_type": "markdown",
   "metadata": {},
   "source": [
    "### Train Loop"
   ]
  },
  {
   "cell_type": "code",
   "execution_count": 6,
   "metadata": {},
   "outputs": [
    {
     "name": "stdout",
     "output_type": "stream",
     "text": [
      "Model architecture created\n"
     ]
    }
   ],
   "source": [
    "model = model_initialise()"
   ]
  },
  {
   "cell_type": "code",
   "execution_count": 8,
   "metadata": {},
   "outputs": [],
   "source": [
    "ckpt = tf.train.Checkpoint(step=tf.Variable(1), optimizer=optimizer, net=model)\n",
    "manager = tf.train.CheckpointManager(ckpt, './tf_ckpts', max_to_keep=3)"
   ]
  },
  {
   "cell_type": "code",
   "execution_count": 51,
   "metadata": {},
   "outputs": [],
   "source": [
    "current_time = datetime.datetime.now().strftime(\"%Y%m%d-%H%M%S\")\n",
    "train_log_dir = './tboard_logs/' + current_time + '/train'\n",
    "valid_log_dir = './tboard_logs/' + current_time + '/test'\n",
    "train_summary_writer = tf.summary.create_file_writer(train_log_dir)\n",
    "valid_summary_writer = tf.summary.create_file_writer(valid_log_dir)\n",
    "\n",
    "def _write_summary(epoch): \n",
    "\n",
    "    with train_summary_writer.as_default(): \n",
    "        tf.summary.scalar('Train Loss', train_loss.result(), step=epoch)\n",
    "        tf.summary.scalar('Train Accuracy', train_accuracy.result(), step=epoch)\n",
    "        \n",
    "    with valid_summary_writer.as_default():\n",
    "        tf.summary.scalar('Valid Loss', valid_loss.result(), step=epoch)\n",
    "        tf.summary.scalar('Valid Accuracy', valid_accuracy.result(), step=epoch) "
   ]
  },
  {
   "cell_type": "code",
   "execution_count": 52,
   "metadata": {},
   "outputs": [
    {
     "name": "stdout",
     "output_type": "stream",
     "text": [
      "Epoch 1/10\n",
      "321/321 [==============================] - 15s 47ms/step\n",
      "322/321 [==============================] - 15s 47ms/step\n",
      "Training Loss: 0.760, Training Acc: 51.74% | Valid Loss: 0.701, Valid Acc: 53.94%\n",
      "Saved checkpoint for step 1: ../../logs/tf_ckpts/ckpt-11\n",
      "Loss 0.70\n",
      "Epoch 2/10\n",
      "321/321 [==============================] - 31s 96ms/step\n",
      "322/321 [==============================] - 31s 96ms/step\n",
      "Training Loss: 0.705, Training Acc: 54.85% | Valid Loss: 0.686, Valid Acc: 57.79%\n",
      "Saved checkpoint for step 1: ../../logs/tf_ckpts/ckpt-12\n",
      "Loss 0.69\n",
      "Epoch 3/10\n",
      "321/321 [==============================] - 46s 143ms/step\n",
      "322/321 [==============================] - 46s 143ms/step\n",
      "Training Loss: 0.693, Training Acc: 56.63% | Valid Loss: 0.684, Valid Acc: 58.84%\n",
      "Saved checkpoint for step 1: ../../logs/tf_ckpts/ckpt-13\n",
      "Loss 0.68\n"
     ]
    }
   ],
   "source": [
    "min_loss = 100\n",
    "results = defaultdict(list)\n",
    "\n",
    "@tf.function\n",
    "def training_graph(x, y, training):\n",
    "\n",
    "    with tf.GradientTape() as tape:\n",
    "        predictions = model(x, training=training)\n",
    "        loss = loss_fn(y, predictions)\n",
    "\n",
    "    if training:\n",
    "\n",
    "        gradients = tape.gradient(loss, model.trainable_variables)\n",
    "        optimizer.apply_gradients(\n",
    "            zip(gradients, model.trainable_variables))\n",
    "\n",
    "        train_loss(loss)\n",
    "        train_accuracy(y, predictions)\n",
    "\n",
    "    else:\n",
    "\n",
    "        valid_loss(loss)\n",
    "        valid_accuracy(y, predictions)\n",
    "\n",
    "pb = tf.keras.utils.Progbar(train_len//batch_size, stateful_metrics='val_loss')\n",
    "\n",
    "# Training-Validation process\n",
    "for epoch in range(3):\n",
    "\n",
    "    print(\"Epoch {}/{}\".format(epoch+1,epochs))\n",
    "\n",
    "    for i, (x, y) in enumerate(train):\n",
    "\n",
    "        '''\n",
    "        if self.augment:\n",
    "            x = tf.squeeze(x)\n",
    "            #x = tf.reshape(x[:,:,:], [x.shape[0]*x.shape[1]*x.shape[2], 200, 300, 3])\n",
    "            x = tf.reshape(x, shape=[-1, 200, 300, self.batch_size])\n",
    "            print(x.shape)\n",
    "        '''\n",
    "        training_graph(x, y, True)\n",
    "        pb.update(i+1)\n",
    "\n",
    "    for x, y in valid:\n",
    "        training_graph(x, y, False)\n",
    "\n",
    "    train_status_msg = \"Training Loss: {:.3f}, Training Acc: {:.2f}% | Valid Loss: {:.3f}, Valid Acc: {:.2f}%\"\n",
    "    print(train_status_msg.format(train_loss.result(), train_accuracy.result()*100,\n",
    "                                  valid_loss.result(), valid_accuracy.result()*100))\n",
    "\n",
    "    if valid_loss.result() < min_loss:\n",
    "        min_loss = valid_loss.result()\n",
    "        save_path = manager.save()\n",
    "        print(\"Saved checkpoint for step {}: {}\".format(int(ckpt.step), save_path))\n",
    "        print(\"Loss {:1.2f}\".format(min_loss))\n",
    "\n",
    "    _write_summary(epoch)\n",
    "        \n",
    "    # Keep results for plotting\n",
    "    results['loss'].append(train_loss.result().numpy())\n",
    "    results['accuracy'].append(train_accuracy.result().numpy())\n",
    "    results['val_loss'].append(valid_loss.result().numpy())\n",
    "    results['val_accuracy'].append(valid_accuracy.result().numpy())\n",
    "    \n",
    "    train_loss.reset_states()\n",
    "    train_accuracy.reset_states()\n",
    "    valid_loss.reset_states()\n",
    "    valid_accuracy.reset_states()"
   ]
  },
  {
   "cell_type": "code",
   "execution_count": 10,
   "metadata": {},
   "outputs": [
    {
     "data": {
      "text/plain": [
       "['./tf_ckpts/ckpt-1', './tf_ckpts/ckpt-2', './tf_ckpts/ckpt-3']"
      ]
     },
     "execution_count": 10,
     "metadata": {},
     "output_type": "execute_result"
    }
   ],
   "source": [
    "manager.checkpoints"
   ]
  },
  {
   "cell_type": "code",
   "execution_count": null,
   "metadata": {},
   "outputs": [],
   "source": [
    "ckpt.restore(manager.checkpoints)"
   ]
  },
  {
   "cell_type": "markdown",
   "metadata": {},
   "source": [
    "## Visualise Loss"
   ]
  },
  {
   "cell_type": "code",
   "execution_count": null,
   "metadata": {},
   "outputs": [],
   "source": [
    "plot_training(results.history)"
   ]
  },
  {
   "cell_type": "markdown",
   "metadata": {},
   "source": [
    "## Inference"
   ]
  },
  {
   "cell_type": "code",
   "execution_count": 9,
   "metadata": {},
   "outputs": [],
   "source": [
    "from sklearn.metrics import confusion_matrix"
   ]
  },
  {
   "cell_type": "code",
   "execution_count": 10,
   "metadata": {},
   "outputs": [],
   "source": [
    "def get_true_labels(dataset, dataset_len):\n",
    "\n",
    "    true_y = []\n",
    "    for _, y in dataset.take(dataset_len // batch_size ):\n",
    "        true_y.append(np.argmax(y, axis=1))\n",
    "    \n",
    "    return np.concatenate(true_y)"
   ]
  },
  {
   "cell_type": "code",
   "execution_count": 11,
   "metadata": {},
   "outputs": [],
   "source": [
    "preds = model.predict(test, steps=test_len // batch_size, use_multiprocessing = True)"
   ]
  },
  {
   "cell_type": "code",
   "execution_count": 12,
   "metadata": {},
   "outputs": [],
   "source": [
    "test_y = get_true_labels(test, test_len)"
   ]
  },
  {
   "cell_type": "code",
   "execution_count": 13,
   "metadata": {},
   "outputs": [
    {
     "data": {
      "text/plain": [
       "array([[326, 238],\n",
       "       [265, 191]])"
      ]
     },
     "execution_count": 13,
     "metadata": {},
     "output_type": "execute_result"
    }
   ],
   "source": [
    "confusion_matrix(test_y,np.argmax(preds,axis=1),labels=(0,1))"
   ]
  }
 ],
 "metadata": {
  "kernelspec": {
   "display_name": "TensorFlow-GPU-2.0",
   "language": "python",
   "name": "tf2-gpu"
  },
  "language_info": {
   "codemirror_mode": {
    "name": "ipython",
    "version": 3
   },
   "file_extension": ".py",
   "mimetype": "text/x-python",
   "name": "python",
   "nbconvert_exporter": "python",
   "pygments_lexer": "ipython3",
   "version": "3.6.4"
  }
 },
 "nbformat": 4,
 "nbformat_minor": 4
}
